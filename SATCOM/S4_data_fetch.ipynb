{
 "cells": [
  {
   "cell_type": "code",
   "execution_count": 65,
   "outputs": [],
   "source": [
    "# Imports\n",
    "import json\n",
    "import pandas\n",
    "import matplotlib.pyplot as plt\n",
    "import requests"
   ],
   "metadata": {
    "collapsed": false
   }
  },
  {
   "cell_type": "markdown",
   "source": [
    "INGV Data fetch"
   ],
   "metadata": {
    "collapsed": false
   }
  },
  {
   "cell_type": "code",
   "execution_count": 66,
   "outputs": [],
   "source": [
    "# INGV Stations lists with related metadata, TODO: test de réponse\n",
    "ingv_stations_list = json.loads(requests.get(\"http://ws-eswua.rm.ingv.it/scintillation.php/records/wsstation?order=code\").content)[\"records\"]"
   ],
   "metadata": {
    "collapsed": false
   }
  },
  {
   "cell_type": "code",
   "execution_count": 68,
   "outputs": [],
   "source": [
    "ingv_base_url = \"http://ws-eswua.rm.ingv.it/scintillation.php/records/ws\"\n",
    "\n",
    "# ex d'url : http://ws-eswua.rm.ingv.it/scintillation.php/records/wsthu0p?size=100&order=dt,desc&include=dt,azimuth\n",
    "def get_s4_raw_lasts(id_station, n_records):\n",
    "    request_url = ingv_base_url+id_station+\"?size=\"+str(n_records)+\"&order=dt,desc&include=dt,azimuth,elevation,ipp_lat,ipp-long,PRN,s4_l1_vert,sigmaccdl1,totals4l1\"\n",
    "    station_data_records = json.loads(requests.get(request_url).content)[\"records\"]\n",
    "    return station_data_records\n",
    "\n",
    "\n",
    "st_time = \"2023-01-25 08:10:00\"\n",
    "en_time = \"2023-01-25 11:10:00\"\n",
    "\n",
    "data_test = get_s4_raw_lasts(ingv_stations_list[30][\"code\"], 1000)"
   ],
   "metadata": {
    "collapsed": false
   }
  },
  {
   "cell_type": "markdown",
   "source": [
    "IMPC Data fetch"
   ],
   "metadata": {
    "collapsed": false
   },
   "outputs": []
  },
  {
   "cell_type": "code",
   "execution_count": 67,
   "outputs": [],
   "source": [],
   "metadata": {
    "collapsed": false
   }
  },
  {
   "cell_type": "markdown",
   "source": [
    "Maps fetch"
   ],
   "metadata": {
    "collapsed": false
   }
  },
  {
   "cell_type": "code",
   "execution_count": 67,
   "outputs": [],
   "source": [],
   "metadata": {
    "collapsed": false
   }
  }
 ],
 "metadata": {
  "kernelspec": {
   "display_name": "Python 3",
   "language": "python",
   "name": "python3"
  },
  "language_info": {
   "codemirror_mode": {
    "name": "ipython",
    "version": 2
   },
   "file_extension": ".py",
   "mimetype": "text/x-python",
   "name": "python",
   "nbconvert_exporter": "python",
   "pygments_lexer": "ipython2",
   "version": "2.7.6"
  }
 },
 "nbformat": 4,
 "nbformat_minor": 0
}
