{
 "cells": [
  {
   "cell_type": "code",
   "execution_count": 6,
   "id": "prescribed-theme",
   "metadata": {
    "scrolled": false
   },
   "outputs": [
    {
     "data": {
      "text/html": [
       "<style>.container { width:100% !important; }</style>"
      ],
      "text/plain": [
       "<IPython.core.display.HTML object>"
      ]
     },
     "metadata": {},
     "output_type": "display_data"
    },
    {
     "data": {
      "application/vnd.jupyter.widget-view+json": {
       "model_id": "8f2d2fd9642b4a21b5befe4402135eae",
       "version_major": 2,
       "version_minor": 0
      },
      "text/plain": [
       "Card(children=[CardTitle(children=['TAMAGI: a space weather tool'], class_='d-flex align-start m-2 title font-…"
      ]
     },
     "metadata": {},
     "output_type": "display_data"
    }
   ],
   "source": [
    "import importlib\n",
    "import tamagi_gui\n",
    "importlib.reload(tamagi_gui)\n",
    "\n",
    "\n",
    "# For using all screen width\n",
    "from IPython.core.display import display, HTML\n",
    "display(HTML(\"<style>.container { width:100% !important; }</style>\"))\n",
    "\n",
    "tamagi_gui.initialize()\n",
    "tamagi_gui.main"
   ]
  },
  {
   "cell_type": "code",
   "execution_count": null,
   "id": "thick-transcription",
   "metadata": {},
   "outputs": [],
   "source": []
  }
 ],
 "metadata": {
  "kernelspec": {
   "display_name": "Python 3",
   "language": "python",
   "name": "python3"
  },
  "language_info": {
   "codemirror_mode": {
    "name": "ipython",
    "version": 3
   },
   "file_extension": ".py",
   "mimetype": "text/x-python",
   "name": "python",
   "nbconvert_exporter": "python",
   "pygments_lexer": "ipython3",
   "version": "3.9.0"
  }
 },
 "nbformat": 4,
 "nbformat_minor": 5
}
