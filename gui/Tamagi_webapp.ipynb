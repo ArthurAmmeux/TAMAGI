{
 "cells": [
  {
   "cell_type": "code",
   "execution_count": 2,
   "id": "prescribed-theme",
   "metadata": {
    "scrolled": false
   },
   "outputs": [
    {
     "data": {
      "text/html": [
       "<style>.container { width:100% !important; }</style>"
      ],
      "text/plain": [
       "<IPython.core.display.HTML object>"
      ]
     },
     "metadata": {},
     "output_type": "display_data"
    },
    {
     "data": {
      "application/vnd.jupyter.widget-view+json": {
       "model_id": "44d23935bf4841bb8611bd23a76046ff",
       "version_major": 2,
       "version_minor": 0
      },
      "text/plain": [
       "Card(children=[CardTitle(children=['TAMAGI: a space weather tool'], class_='d-flex align-start m-2 title font-…"
      ]
     },
     "metadata": {},
     "output_type": "display_data"
    },
    {
     "name": "stdout",
     "output_type": "stream",
     "text": [
      "R[0] 0\n",
      "P[0] 0\n"
     ]
    }
   ],
   "source": [
    "import importlib\n",
    "import tamagi_gui\n",
    "importlib.reload(tamagi_gui)\n",
    "#import tamagi_gui\n",
    "\n",
    "\n",
    "# For using all screen width\n",
    "from IPython.core.display import display, HTML\n",
    "display(HTML(\"<style>.container { width:100% !important; }</style>\"))\n",
    "\n",
    "tamagi_gui.main"
   ]
  },
  {
   "cell_type": "code",
   "execution_count": null,
   "id": "convenient-release",
   "metadata": {},
   "outputs": [],
   "source": []
  }
 ],
 "metadata": {
  "kernelspec": {
   "display_name": "Python 3",
   "language": "python",
   "name": "python3"
  },
  "language_info": {
   "codemirror_mode": {
    "name": "ipython",
    "version": 3
   },
   "file_extension": ".py",
   "mimetype": "text/x-python",
   "name": "python",
   "nbconvert_exporter": "python",
   "pygments_lexer": "ipython3",
   "version": "3.9.0"
  }
 },
 "nbformat": 4,
 "nbformat_minor": 5
}
